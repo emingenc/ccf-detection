{
  "cells": [
    {
      "cell_type": "markdown",
      "metadata": {
        "id": "3t0rW-3CNbHI"
      },
      "source": [
        "# **Import libraries**"
      ]
    },
    {
      "cell_type": "code",
      "execution_count": 71,
      "metadata": {
        "id": "Dk1TOxzkMhjZ"
      },
      "outputs": [],
      "source": [
        "import pandas as pd\n",
        "import numpy as np\n",
        "import torch\n",
        "import torch.nn as nn\n",
        "import torch.optim as optim\n",
        "from sklearn.model_selection import train_test_split\n",
        "from sklearn.metrics import roc_auc_score\n",
        "import matplotlib.pyplot as plt\n",
        "import seaborn as sns"
      ]
    },
    {
      "cell_type": "markdown",
      "metadata": {
        "id": "v0PseemFNhs6"
      },
      "source": [
        "# Load the data"
      ]
    },
    {
      "cell_type": "code",
      "execution_count": 72,
      "metadata": {
        "id": "RKN_DsgmMw31"
      },
      "outputs": [
        {
          "data": {
            "text/html": [
              "<div>\n",
              "<style scoped>\n",
              "    .dataframe tbody tr th:only-of-type {\n",
              "        vertical-align: middle;\n",
              "    }\n",
              "\n",
              "    .dataframe tbody tr th {\n",
              "        vertical-align: top;\n",
              "    }\n",
              "\n",
              "    .dataframe thead th {\n",
              "        text-align: right;\n",
              "    }\n",
              "</style>\n",
              "<table border=\"1\" class=\"dataframe\">\n",
              "  <thead>\n",
              "    <tr style=\"text-align: right;\">\n",
              "      <th></th>\n",
              "      <th>step</th>\n",
              "      <th>type</th>\n",
              "      <th>amount</th>\n",
              "      <th>nameOrig</th>\n",
              "      <th>oldbalanceOrg</th>\n",
              "      <th>newbalanceOrig</th>\n",
              "      <th>nameDest</th>\n",
              "      <th>oldbalanceDest</th>\n",
              "      <th>newbalanceDest</th>\n",
              "      <th>isFraud</th>\n",
              "    </tr>\n",
              "  </thead>\n",
              "  <tbody>\n",
              "    <tr>\n",
              "      <th>0</th>\n",
              "      <td>1</td>\n",
              "      <td>PAYMENT</td>\n",
              "      <td>9839.64</td>\n",
              "      <td>C1231006815</td>\n",
              "      <td>170136.0</td>\n",
              "      <td>160296.36</td>\n",
              "      <td>M1979787155</td>\n",
              "      <td>0.0</td>\n",
              "      <td>0.0</td>\n",
              "      <td>0</td>\n",
              "    </tr>\n",
              "    <tr>\n",
              "      <th>1</th>\n",
              "      <td>1</td>\n",
              "      <td>PAYMENT</td>\n",
              "      <td>1864.28</td>\n",
              "      <td>C1666544295</td>\n",
              "      <td>21249.0</td>\n",
              "      <td>19384.72</td>\n",
              "      <td>M2044282225</td>\n",
              "      <td>0.0</td>\n",
              "      <td>0.0</td>\n",
              "      <td>0</td>\n",
              "    </tr>\n",
              "    <tr>\n",
              "      <th>2</th>\n",
              "      <td>1</td>\n",
              "      <td>TRANSFER</td>\n",
              "      <td>181.00</td>\n",
              "      <td>C1305486145</td>\n",
              "      <td>181.0</td>\n",
              "      <td>0.00</td>\n",
              "      <td>C553264065</td>\n",
              "      <td>0.0</td>\n",
              "      <td>0.0</td>\n",
              "      <td>1</td>\n",
              "    </tr>\n",
              "    <tr>\n",
              "      <th>3</th>\n",
              "      <td>1</td>\n",
              "      <td>CASH_OUT</td>\n",
              "      <td>181.00</td>\n",
              "      <td>C840083671</td>\n",
              "      <td>181.0</td>\n",
              "      <td>0.00</td>\n",
              "      <td>C38997010</td>\n",
              "      <td>21182.0</td>\n",
              "      <td>0.0</td>\n",
              "      <td>1</td>\n",
              "    </tr>\n",
              "    <tr>\n",
              "      <th>4</th>\n",
              "      <td>1</td>\n",
              "      <td>PAYMENT</td>\n",
              "      <td>11668.14</td>\n",
              "      <td>C2048537720</td>\n",
              "      <td>41554.0</td>\n",
              "      <td>29885.86</td>\n",
              "      <td>M1230701703</td>\n",
              "      <td>0.0</td>\n",
              "      <td>0.0</td>\n",
              "      <td>0</td>\n",
              "    </tr>\n",
              "  </tbody>\n",
              "</table>\n",
              "</div>"
            ],
            "text/plain": [
              "   step      type    amount     nameOrig  oldbalanceOrg  newbalanceOrig  \\\n",
              "0     1   PAYMENT   9839.64  C1231006815       170136.0       160296.36   \n",
              "1     1   PAYMENT   1864.28  C1666544295        21249.0        19384.72   \n",
              "2     1  TRANSFER    181.00  C1305486145          181.0            0.00   \n",
              "3     1  CASH_OUT    181.00   C840083671          181.0            0.00   \n",
              "4     1   PAYMENT  11668.14  C2048537720        41554.0        29885.86   \n",
              "\n",
              "      nameDest  oldbalanceDest  newbalanceDest  isFraud  \n",
              "0  M1979787155             0.0             0.0        0  \n",
              "1  M2044282225             0.0             0.0        0  \n",
              "2   C553264065             0.0             0.0        1  \n",
              "3    C38997010         21182.0             0.0        1  \n",
              "4  M1230701703             0.0             0.0        0  "
            ]
          },
          "execution_count": 72,
          "metadata": {},
          "output_type": "execute_result"
        }
      ],
      "source": [
        "data = pd.read_csv('credit_card_fraud.csv')\n",
        "data.head()"
      ]
    },
    {
      "cell_type": "code",
      "execution_count": 73,
      "metadata": {},
      "outputs": [
        {
          "data": {
            "image/png": "[encoded data removed]",
            "text/plain": [
              "<Figure size 432x288 with 1 Axes>"
            ]
          },
          "metadata": {
            "needs_background": "light"
          },
          "output_type": "display_data"
        },
        {
          "data": {
            "image/png": "[encoded data removed]",
            "text/plain": [
              "<Figure size 432x288 with 1 Axes>"
            ]
          },
          "metadata": {
            "needs_background": "light"
          },
          "output_type": "display_data"
        },
        {
          "data": {
            "image/png": "[encoded data removed]",
            "text/plain": [
              "<Figure size 432x288 with 1 Axes>"
            ]
          },
          "metadata": {
            "needs_background": "light"
          },
          "output_type": "display_data"
        },
        {
          "data": {
            "image/png": "[encoded data removed]",
            "text/plain": [
              "<Figure size 432x288 with 1 Axes>"
            ]
          },
          "metadata": {
            "needs_background": "light"
          },
          "output_type": "display_data"
        }
      ],
      "source": [
        "\n",
        "\n",
        "# Plot the distribution of the 'amount' column\n",
        "sns.histplot(data=data, x='amount', bins=50)\n",
        "plt.show()\n",
        "\n",
        "\n",
        "# Plot the distribution of the 'oldbalanceOrg' column\n",
        "sns.histplot(data=data, x='oldbalanceOrg', bins=50)\n",
        "plt.show()\n",
        "\n",
        "# Plot the count of the 'type' column\n",
        "sns.countplot(data=data, x='type')\n",
        "plt.show()\n",
        "\n",
        "# Plot the count of the 'isFraud' column\n",
        "sns.countplot(data=data, x='isFraud')\n",
        "plt.show()\n",
        "\n",
        "\n",
        "\n"
      ]
    },
    {
      "cell_type": "code",
      "execution_count": 74,
      "metadata": {},
      "outputs": [
        {
          "data": {
            "image/png": "[encoded data removed]",
            "text/plain": [
              "<Figure size 432x288 with 1 Axes>"
            ]
          },
          "metadata": {
            "needs_background": "light"
          },
          "output_type": "display_data"
        },
        {
          "data": {
            "image/png": "[encoded data removed]",
            "text/plain": [
              "<Figure size 432x288 with 2 Axes>"
            ]
          },
          "metadata": {
            "needs_background": "light"
          },
          "output_type": "display_data"
        },
        {
          "data": {
            "image/png": "[encoded data removed]",
            "text/plain": [
              "<Figure size 432x288 with 1 Axes>"
            ]
          },
          "metadata": {
            "needs_background": "light"
          },
          "output_type": "display_data"
        },
        {
          "data": {
            "image/png": "[encoded data removed]",
            "text/plain": [
              "<Figure size 432x288 with 1 Axes>"
            ]
          },
          "metadata": {
            "needs_background": "light"
          },
          "output_type": "display_data"
        },
        {
          "data": {
            "image/png": "[encoded data removed]",
            "text/plain": [
              "<Figure size 432x288 with 1 Axes>"
            ]
          },
          "metadata": {
            "needs_background": "light"
          },
          "output_type": "display_data"
        },
        {
          "data": {
            "text/plain": [
              "nameDest\n",
              "C985934102     98\n",
              "C1286084959    96\n",
              "C1590550415    89\n",
              "C248609774     88\n",
              "C665576141     87\n",
              "               ..\n",
              "M382871047      1\n",
              "M322765556      1\n",
              "M1118794441     1\n",
              "M1127250627     1\n",
              "M677577406      1\n",
              "Name: count, Length: 449635, dtype: int64"
            ]
          },
          "execution_count": 74,
          "metadata": {},
          "output_type": "execute_result"
        }
      ],
      "source": [
        "# Plot the distribution of the 'oldbalanceDest' column\n",
        "sns.histplot(data=data, x='oldbalanceDest', bins=50)\n",
        "plt.show()\n",
        "\n",
        "# Plot the correlation matrix of the numerical columns\n",
        "corr = data[['step', 'amount', 'oldbalanceOrg', 'newbalanceOrig', 'oldbalanceDest', 'newbalanceDest', 'isFraud']].corr()\n",
        "sns.heatmap(corr, annot=True)\n",
        "plt.show()\n",
        "\n",
        "\n",
        "# Plot the boxplot of the 'amount' column by 'isFraud'\n",
        "sns.boxplot(data=data, x='isFraud', y='amount')\n",
        "plt.show()\n",
        "\n",
        "# Plot the boxplot of the 'oldbalanceOrg' column by 'isFraud'\n",
        "sns.boxplot(data=data, x='isFraud', y='oldbalanceOrg')\n",
        "plt.show()\n",
        "\n",
        "# Plot the boxplot of the 'oldbalanceDest' column by 'isFraud'\n",
        "sns.boxplot(data=data, x='isFraud', y='oldbalanceDest')\n",
        "plt.show()\n",
        "\n",
        "# nameOrig and nameDest analysis\n",
        "data['nameOrig'].value_counts()\n",
        "data['nameDest'].value_counts()\n",
        "\n",
        "\n"
      ]
    },
    {
      "cell_type": "code",
      "execution_count": 98,
      "metadata": {},
      "outputs": [
        {
          "data": {
            "text/plain": [
              "step              1142\n",
              "type              1142\n",
              "amount            1142\n",
              "oldbalanceOrg     1142\n",
              "newbalanceOrig    1142\n",
              "oldbalanceDest    1142\n",
              "newbalanceDest    1142\n",
              "isFraud           1142\n",
              "dtype: int64"
            ]
          },
          "execution_count": 98,
          "metadata": {},
          "output_type": "execute_result"
        }
      ],
      "source": [
        "# is fraud 1 count\n",
        "data[data['isFraud'] == 1].count()\n",
        "\n"
      ]
    },
    {
      "cell_type": "code",
      "execution_count": 97,
      "metadata": {},
      "outputs": [
        {
          "data": {
            "text/plain": [
              "step              1047433\n",
              "type              1047433\n",
              "amount            1047433\n",
              "oldbalanceOrg     1047433\n",
              "newbalanceOrig    1047433\n",
              "oldbalanceDest    1047433\n",
              "newbalanceDest    1047433\n",
              "isFraud           1047433\n",
              "dtype: int64"
            ]
          },
          "execution_count": 97,
          "metadata": {},
          "output_type": "execute_result"
        }
      ],
      "source": [
        "# is fraud 0 count\n",
        "data[data['isFraud'] == 0].count()\n",
        "\n"
      ]
    },
    {
      "cell_type": "code",
      "execution_count": 99,
      "metadata": {},
      "outputs": [],
      "source": [
        "# so less is fraud 1, so we need to balance the data\n",
        "# we can use undersampling or oversampling\n",
        "\n",
        "# undersampling\n",
        "# take the same number of fraud and non fraud data \n",
        "\n",
        "# lets make over 5 transactions 1 fraud so we can take 5 non fraud data for each fraud data\n",
        "multiplier = 5\n",
        "data_fraud = data[data['isFraud'] == 1]\n",
        "data_non_fraud = data[data['isFraud'] == 0]\n",
        "\n",
        "data_non_fraud = data_non_fraud.sample(n=multiplier*data_fraud.shape[0])\n",
        "\n",
        "data = pd.concat([data_fraud, data_non_fraud])"
      ]
    },
    {
      "cell_type": "code",
      "execution_count": 102,
      "metadata": {},
      "outputs": [
        {
          "data": {
            "text/html": [
              "<div>\n",
              "<style scoped>\n",
              "    .dataframe tbody tr th:only-of-type {\n",
              "        vertical-align: middle;\n",
              "    }\n",
              "\n",
              "    .dataframe tbody tr th {\n",
              "        vertical-align: top;\n",
              "    }\n",
              "\n",
              "    .dataframe thead th {\n",
              "        text-align: right;\n",
              "    }\n",
              "</style>\n",
              "<table border=\"1\" class=\"dataframe\">\n",
              "  <thead>\n",
              "    <tr style=\"text-align: right;\">\n",
              "      <th></th>\n",
              "      <th>step</th>\n",
              "      <th>type</th>\n",
              "      <th>amount</th>\n",
              "      <th>oldbalanceOrg</th>\n",
              "      <th>newbalanceOrig</th>\n",
              "      <th>oldbalanceDest</th>\n",
              "      <th>newbalanceDest</th>\n",
              "      <th>isFraud</th>\n",
              "    </tr>\n",
              "  </thead>\n",
              "  <tbody>\n",
              "    <tr>\n",
              "      <th>2</th>\n",
              "      <td>1</td>\n",
              "      <td>TRANSFER</td>\n",
              "      <td>181.00</td>\n",
              "      <td>181.00</td>\n",
              "      <td>0.00</td>\n",
              "      <td>0.0</td>\n",
              "      <td>0.00</td>\n",
              "      <td>1</td>\n",
              "    </tr>\n",
              "    <tr>\n",
              "      <th>3</th>\n",
              "      <td>1</td>\n",
              "      <td>CASH_OUT</td>\n",
              "      <td>181.00</td>\n",
              "      <td>181.00</td>\n",
              "      <td>0.00</td>\n",
              "      <td>21182.0</td>\n",
              "      <td>0.00</td>\n",
              "      <td>1</td>\n",
              "    </tr>\n",
              "    <tr>\n",
              "      <th>251</th>\n",
              "      <td>1</td>\n",
              "      <td>TRANSFER</td>\n",
              "      <td>2806.00</td>\n",
              "      <td>2806.00</td>\n",
              "      <td>0.00</td>\n",
              "      <td>0.0</td>\n",
              "      <td>0.00</td>\n",
              "      <td>1</td>\n",
              "    </tr>\n",
              "    <tr>\n",
              "      <th>252</th>\n",
              "      <td>1</td>\n",
              "      <td>CASH_OUT</td>\n",
              "      <td>2806.00</td>\n",
              "      <td>2806.00</td>\n",
              "      <td>0.00</td>\n",
              "      <td>26202.0</td>\n",
              "      <td>0.00</td>\n",
              "      <td>1</td>\n",
              "    </tr>\n",
              "    <tr>\n",
              "      <th>680</th>\n",
              "      <td>1</td>\n",
              "      <td>TRANSFER</td>\n",
              "      <td>20128.00</td>\n",
              "      <td>20128.00</td>\n",
              "      <td>0.00</td>\n",
              "      <td>0.0</td>\n",
              "      <td>0.00</td>\n",
              "      <td>1</td>\n",
              "    </tr>\n",
              "    <tr>\n",
              "      <th>...</th>\n",
              "      <td>...</td>\n",
              "      <td>...</td>\n",
              "      <td>...</td>\n",
              "      <td>...</td>\n",
              "      <td>...</td>\n",
              "      <td>...</td>\n",
              "      <td>...</td>\n",
              "      <td>...</td>\n",
              "    </tr>\n",
              "    <tr>\n",
              "      <th>171038</th>\n",
              "      <td>12</td>\n",
              "      <td>CASH_IN</td>\n",
              "      <td>421047.04</td>\n",
              "      <td>68795.00</td>\n",
              "      <td>489842.04</td>\n",
              "      <td>0.0</td>\n",
              "      <td>175806.78</td>\n",
              "      <td>0</td>\n",
              "    </tr>\n",
              "    <tr>\n",
              "      <th>469948</th>\n",
              "      <td>19</td>\n",
              "      <td>PAYMENT</td>\n",
              "      <td>4356.71</td>\n",
              "      <td>481456.91</td>\n",
              "      <td>477100.20</td>\n",
              "      <td>0.0</td>\n",
              "      <td>0.00</td>\n",
              "      <td>0</td>\n",
              "    </tr>\n",
              "    <tr>\n",
              "      <th>1015351</th>\n",
              "      <td>47</td>\n",
              "      <td>PAYMENT</td>\n",
              "      <td>3505.24</td>\n",
              "      <td>10866.00</td>\n",
              "      <td>7360.76</td>\n",
              "      <td>0.0</td>\n",
              "      <td>0.00</td>\n",
              "      <td>0</td>\n",
              "    </tr>\n",
              "    <tr>\n",
              "      <th>920165</th>\n",
              "      <td>43</td>\n",
              "      <td>PAYMENT</td>\n",
              "      <td>39832.10</td>\n",
              "      <td>29921.00</td>\n",
              "      <td>0.00</td>\n",
              "      <td>0.0</td>\n",
              "      <td>0.00</td>\n",
              "      <td>0</td>\n",
              "    </tr>\n",
              "    <tr>\n",
              "      <th>575202</th>\n",
              "      <td>25</td>\n",
              "      <td>PAYMENT</td>\n",
              "      <td>2782.21</td>\n",
              "      <td>12884.00</td>\n",
              "      <td>10101.79</td>\n",
              "      <td>0.0</td>\n",
              "      <td>0.00</td>\n",
              "      <td>0</td>\n",
              "    </tr>\n",
              "  </tbody>\n",
              "</table>\n",
              "<p>6852 rows × 8 columns</p>\n",
              "</div>"
            ],
            "text/plain": [
              "         step      type     amount  oldbalanceOrg  newbalanceOrig  \\\n",
              "2           1  TRANSFER     181.00         181.00            0.00   \n",
              "3           1  CASH_OUT     181.00         181.00            0.00   \n",
              "251         1  TRANSFER    2806.00        2806.00            0.00   \n",
              "252         1  CASH_OUT    2806.00        2806.00            0.00   \n",
              "680         1  TRANSFER   20128.00       20128.00            0.00   \n",
              "...       ...       ...        ...            ...             ...   \n",
              "171038     12   CASH_IN  421047.04       68795.00       489842.04   \n",
              "469948     19   PAYMENT    4356.71      481456.91       477100.20   \n",
              "1015351    47   PAYMENT    3505.24       10866.00         7360.76   \n",
              "920165     43   PAYMENT   39832.10       29921.00            0.00   \n",
              "575202     25   PAYMENT    2782.21       12884.00        10101.79   \n",
              "\n",
              "         oldbalanceDest  newbalanceDest  isFraud  \n",
              "2                   0.0            0.00        1  \n",
              "3               21182.0            0.00        1  \n",
              "251                 0.0            0.00        1  \n",
              "252             26202.0            0.00        1  \n",
              "680                 0.0            0.00        1  \n",
              "...                 ...             ...      ...  \n",
              "171038              0.0       175806.78        0  \n",
              "469948              0.0            0.00        0  \n",
              "1015351             0.0            0.00        0  \n",
              "920165              0.0            0.00        0  \n",
              "575202              0.0            0.00        0  \n",
              "\n",
              "[6852 rows x 8 columns]"
            ]
          },
          "execution_count": 102,
          "metadata": {},
          "output_type": "execute_result"
        }
      ],
      "source": [
        "data"
      ]
    },
    {
      "cell_type": "markdown",
      "metadata": {
        "id": "GyrcuMs-Nofw"
      },
      "source": [
        "# Split the data into features and labels"
      ]
    },
    {
      "cell_type": "code",
      "execution_count": 104,
      "metadata": {
        "id": "p9_Psu7vM_wv"
      },
      "outputs": [],
      "source": [
        "X = data.drop('isFraud', axis=1)\n",
        "y = data['isFraud']"
      ]
    },
    {
      "cell_type": "markdown",
      "metadata": {
        "id": "fc0T2JvQNs6K"
      },
      "source": [
        "# Encode the categorical features"
      ]
    },
    {
      "cell_type": "code",
      "execution_count": 105,
      "metadata": {
        "id": "Scgiue2uNQwH"
      },
      "outputs": [],
      "source": [
        "X = pd.get_dummies(X, columns=['type'], drop_first=True)"
      ]
    },
    {
      "cell_type": "code",
      "execution_count": 106,
      "metadata": {},
      "outputs": [
        {
          "ename": "KeyError",
          "evalue": "\"['nameOrig', 'nameDest'] not found in axis\"",
          "output_type": "error",
          "traceback": [
            "\u001b[0;31m---------------------------------------------------------------------------\u001b[0m",
            "\u001b[0;31mKeyError\u001b[0m                                  Traceback (most recent call last)",
            "\u001b[0;32m/var/folders/5n/prnfd2ts0tx_7b3flrj65hn00000gn/T/ipykernel_21666/935159219.py\u001b[0m in \u001b[0;36m<module>\u001b[0;34m\u001b[0m\n\u001b[1;32m      1\u001b[0m \u001b[0;31m# nameOrig and nameDest have too many unique values, lets drop them\u001b[0m\u001b[0;34m\u001b[0m\u001b[0;34m\u001b[0m\u001b[0;34m\u001b[0m\u001b[0m\n\u001b[1;32m      2\u001b[0m \u001b[0;34m\u001b[0m\u001b[0m\n\u001b[0;32m----> 3\u001b[0;31m \u001b[0mX\u001b[0m \u001b[0;34m=\u001b[0m \u001b[0mX\u001b[0m\u001b[0;34m.\u001b[0m\u001b[0mdrop\u001b[0m\u001b[0;34m(\u001b[0m\u001b[0;34m[\u001b[0m\u001b[0;34m'nameOrig'\u001b[0m\u001b[0;34m,\u001b[0m \u001b[0;34m'nameDest'\u001b[0m\u001b[0;34m]\u001b[0m\u001b[0;34m,\u001b[0m \u001b[0maxis\u001b[0m\u001b[0;34m=\u001b[0m\u001b[0;36m1\u001b[0m\u001b[0;34m)\u001b[0m\u001b[0;34m\u001b[0m\u001b[0;34m\u001b[0m\u001b[0m\n\u001b[0m",
            "\u001b[0;32m/usr/local/lib/python3.8/site-packages/pandas/core/frame.py\u001b[0m in \u001b[0;36mdrop\u001b[0;34m(self, labels, axis, index, columns, level, inplace, errors)\u001b[0m\n\u001b[1;32m   5256\u001b[0m                 \u001b[0mweight\u001b[0m  \u001b[0;36m1.0\u001b[0m     \u001b[0;36m0.8\u001b[0m\u001b[0;34m\u001b[0m\u001b[0;34m\u001b[0m\u001b[0m\n\u001b[1;32m   5257\u001b[0m         \"\"\"\n\u001b[0;32m-> 5258\u001b[0;31m         return super().drop(\n\u001b[0m\u001b[1;32m   5259\u001b[0m             \u001b[0mlabels\u001b[0m\u001b[0;34m=\u001b[0m\u001b[0mlabels\u001b[0m\u001b[0;34m,\u001b[0m\u001b[0;34m\u001b[0m\u001b[0;34m\u001b[0m\u001b[0m\n\u001b[1;32m   5260\u001b[0m             \u001b[0maxis\u001b[0m\u001b[0;34m=\u001b[0m\u001b[0maxis\u001b[0m\u001b[0;34m,\u001b[0m\u001b[0;34m\u001b[0m\u001b[0;34m\u001b[0m\u001b[0m\n",
            "\u001b[0;32m/usr/local/lib/python3.8/site-packages/pandas/core/generic.py\u001b[0m in \u001b[0;36mdrop\u001b[0;34m(self, labels, axis, index, columns, level, inplace, errors)\u001b[0m\n\u001b[1;32m   4547\u001b[0m         \u001b[0;32mfor\u001b[0m \u001b[0maxis\u001b[0m\u001b[0;34m,\u001b[0m \u001b[0mlabels\u001b[0m \u001b[0;32min\u001b[0m \u001b[0maxes\u001b[0m\u001b[0;34m.\u001b[0m\u001b[0mitems\u001b[0m\u001b[0;34m(\u001b[0m\u001b[0;34m)\u001b[0m\u001b[0;34m:\u001b[0m\u001b[0;34m\u001b[0m\u001b[0;34m\u001b[0m\u001b[0m\n\u001b[1;32m   4548\u001b[0m             \u001b[0;32mif\u001b[0m \u001b[0mlabels\u001b[0m \u001b[0;32mis\u001b[0m \u001b[0;32mnot\u001b[0m \u001b[0;32mNone\u001b[0m\u001b[0;34m:\u001b[0m\u001b[0;34m\u001b[0m\u001b[0;34m\u001b[0m\u001b[0m\n\u001b[0;32m-> 4549\u001b[0;31m                 \u001b[0mobj\u001b[0m \u001b[0;34m=\u001b[0m \u001b[0mobj\u001b[0m\u001b[0;34m.\u001b[0m\u001b[0m_drop_axis\u001b[0m\u001b[0;34m(\u001b[0m\u001b[0mlabels\u001b[0m\u001b[0;34m,\u001b[0m \u001b[0maxis\u001b[0m\u001b[0;34m,\u001b[0m \u001b[0mlevel\u001b[0m\u001b[0;34m=\u001b[0m\u001b[0mlevel\u001b[0m\u001b[0;34m,\u001b[0m \u001b[0merrors\u001b[0m\u001b[0;34m=\u001b[0m\u001b[0merrors\u001b[0m\u001b[0;34m)\u001b[0m\u001b[0;34m\u001b[0m\u001b[0;34m\u001b[0m\u001b[0m\n\u001b[0m\u001b[1;32m   4550\u001b[0m \u001b[0;34m\u001b[0m\u001b[0m\n\u001b[1;32m   4551\u001b[0m         \u001b[0;32mif\u001b[0m \u001b[0minplace\u001b[0m\u001b[0;34m:\u001b[0m\u001b[0;34m\u001b[0m\u001b[0;34m\u001b[0m\u001b[0m\n",
            "\u001b[0;32m/usr/local/lib/python3.8/site-packages/pandas/core/generic.py\u001b[0m in \u001b[0;36m_drop_axis\u001b[0;34m(self, labels, axis, level, errors, only_slice)\u001b[0m\n\u001b[1;32m   4589\u001b[0m                 \u001b[0mnew_axis\u001b[0m \u001b[0;34m=\u001b[0m \u001b[0maxis\u001b[0m\u001b[0;34m.\u001b[0m\u001b[0mdrop\u001b[0m\u001b[0;34m(\u001b[0m\u001b[0mlabels\u001b[0m\u001b[0;34m,\u001b[0m \u001b[0mlevel\u001b[0m\u001b[0;34m=\u001b[0m\u001b[0mlevel\u001b[0m\u001b[0;34m,\u001b[0m \u001b[0merrors\u001b[0m\u001b[0;34m=\u001b[0m\u001b[0merrors\u001b[0m\u001b[0;34m)\u001b[0m\u001b[0;34m\u001b[0m\u001b[0;34m\u001b[0m\u001b[0m\n\u001b[1;32m   4590\u001b[0m             \u001b[0;32melse\u001b[0m\u001b[0;34m:\u001b[0m\u001b[0;34m\u001b[0m\u001b[0;34m\u001b[0m\u001b[0m\n\u001b[0;32m-> 4591\u001b[0;31m                 \u001b[0mnew_axis\u001b[0m \u001b[0;34m=\u001b[0m \u001b[0maxis\u001b[0m\u001b[0;34m.\u001b[0m\u001b[0mdrop\u001b[0m\u001b[0;34m(\u001b[0m\u001b[0mlabels\u001b[0m\u001b[0;34m,\u001b[0m \u001b[0merrors\u001b[0m\u001b[0;34m=\u001b[0m\u001b[0merrors\u001b[0m\u001b[0;34m)\u001b[0m\u001b[0;34m\u001b[0m\u001b[0;34m\u001b[0m\u001b[0m\n\u001b[0m\u001b[1;32m   4592\u001b[0m             \u001b[0mindexer\u001b[0m \u001b[0;34m=\u001b[0m \u001b[0maxis\u001b[0m\u001b[0;34m.\u001b[0m\u001b[0mget_indexer\u001b[0m\u001b[0;34m(\u001b[0m\u001b[0mnew_axis\u001b[0m\u001b[0;34m)\u001b[0m\u001b[0;34m\u001b[0m\u001b[0;34m\u001b[0m\u001b[0m\n\u001b[1;32m   4593\u001b[0m \u001b[0;34m\u001b[0m\u001b[0m\n",
            "\u001b[0;32m/usr/local/lib/python3.8/site-packages/pandas/core/indexes/base.py\u001b[0m in \u001b[0;36mdrop\u001b[0;34m(self, labels, errors)\u001b[0m\n\u001b[1;32m   6694\u001b[0m         \u001b[0;32mif\u001b[0m \u001b[0mmask\u001b[0m\u001b[0;34m.\u001b[0m\u001b[0many\u001b[0m\u001b[0;34m(\u001b[0m\u001b[0;34m)\u001b[0m\u001b[0;34m:\u001b[0m\u001b[0;34m\u001b[0m\u001b[0;34m\u001b[0m\u001b[0m\n\u001b[1;32m   6695\u001b[0m             \u001b[0;32mif\u001b[0m \u001b[0merrors\u001b[0m \u001b[0;34m!=\u001b[0m \u001b[0;34m\"ignore\"\u001b[0m\u001b[0;34m:\u001b[0m\u001b[0;34m\u001b[0m\u001b[0;34m\u001b[0m\u001b[0m\n\u001b[0;32m-> 6696\u001b[0;31m                 \u001b[0;32mraise\u001b[0m \u001b[0mKeyError\u001b[0m\u001b[0;34m(\u001b[0m\u001b[0;34mf\"{list(labels[mask])} not found in axis\"\u001b[0m\u001b[0;34m)\u001b[0m\u001b[0;34m\u001b[0m\u001b[0;34m\u001b[0m\u001b[0m\n\u001b[0m\u001b[1;32m   6697\u001b[0m             \u001b[0mindexer\u001b[0m \u001b[0;34m=\u001b[0m \u001b[0mindexer\u001b[0m\u001b[0;34m[\u001b[0m\u001b[0;34m~\u001b[0m\u001b[0mmask\u001b[0m\u001b[0;34m]\u001b[0m\u001b[0;34m\u001b[0m\u001b[0;34m\u001b[0m\u001b[0m\n\u001b[1;32m   6698\u001b[0m         \u001b[0;32mreturn\u001b[0m \u001b[0mself\u001b[0m\u001b[0;34m.\u001b[0m\u001b[0mdelete\u001b[0m\u001b[0;34m(\u001b[0m\u001b[0mindexer\u001b[0m\u001b[0;34m)\u001b[0m\u001b[0;34m\u001b[0m\u001b[0;34m\u001b[0m\u001b[0m\n",
            "\u001b[0;31mKeyError\u001b[0m: \"['nameOrig', 'nameDest'] not found in axis\""
          ]
        }
      ],
      "source": [
        "# nameOrig and nameDest have too many unique values, lets drop them\n",
        "\n",
        "X = X.drop(['nameOrig', 'nameDest'], axis=1)"
      ]
    },
    {
      "cell_type": "markdown",
      "metadata": {
        "id": "wjUIJhzxNZxe"
      },
      "source": [
        "# Normalize the numerical features"
      ]
    },
    {
      "cell_type": "code",
      "execution_count": 107,
      "metadata": {
        "id": "CTcVt4rBNzOk"
      },
      "outputs": [],
      "source": [
        "# normalize the data using sklearn StandardScaler\n",
        "from sklearn.preprocessing import StandardScaler\n",
        "scaler = StandardScaler()\n",
        "\n",
        "X = scaler.fit_transform(X)"
      ]
    },
    {
      "cell_type": "markdown",
      "metadata": {
        "id": "Kl6VrZULN6gD"
      },
      "source": [
        "# Split the data into train and test sets"
      ]
    },
    {
      "cell_type": "code",
      "execution_count": 108,
      "metadata": {
        "id": "k0cx_ha7N9kB"
      },
      "outputs": [],
      "source": [
        "X_train, X_test, y_train, y_test = train_test_split(X, y, test_size=0.2, random_state=42)"
      ]
    },
    {
      "cell_type": "markdown",
      "metadata": {
        "id": "bQ0h_6uUOHhE"
      },
      "source": [
        "# Convert the data into tensors"
      ]
    },
    {
      "cell_type": "code",
      "execution_count": 109,
      "metadata": {
        "id": "T1i-KN7gOIV4"
      },
      "outputs": [],
      "source": [
        "X_train = torch.FloatTensor(X_train)\n",
        "X_test = torch.FloatTensor(X_test)\n",
        "\n",
        "y_train = torch.LongTensor(y_train.values)\n",
        "y_test = torch.LongTensor(y_test.values)\n"
      ]
    },
    {
      "cell_type": "markdown",
      "metadata": {
        "id": "5sIWZ0oEOV0H"
      },
      "source": [
        "# Define the neural network model"
      ]
    },
    {
      "cell_type": "code",
      "execution_count": 110,
      "metadata": {
        "id": "hXZG_n6VOacW"
      },
      "outputs": [],
      "source": [
        "class Net(nn.Module):\n",
        "  def __init__(self, input_features=X_train.shape[1]):\n",
        "    super(Net, self).__init__()\n",
        "    self.fc1 = nn.Linear(input_features, 32)\n",
        "    self.fc2 = nn.Linear(32, 64)\n",
        "    self.fc3 = nn.Linear(64, 128)\n",
        "    self.fc4 = nn.Linear(128, 64)\n",
        "    self.fc5 = nn.Linear(64, 2)\n",
        "    self.dropout = nn.Dropout(0.2)\n",
        "\n",
        "  def forward(self, x):\n",
        "    x = torch.relu(self.fc1(x))\n",
        "    x = self.dropout(x)\n",
        "    x = torch.relu(self.fc2(x))\n",
        "    x = self.dropout(x)\n",
        "    x = torch.relu(self.fc3(x))\n",
        "    x = self.dropout(x)\n",
        "    x = torch.relu(self.fc4(x))\n",
        "    x = self.dropout(x)\n",
        "    x = self.fc5(x)\n",
        "\n",
        "    return x"
      ]
    },
    {
      "cell_type": "code",
      "execution_count": 111,
      "metadata": {},
      "outputs": [
        {
          "data": {
            "text/plain": [
              "10"
            ]
          },
          "execution_count": 111,
          "metadata": {},
          "output_type": "execute_result"
        }
      ],
      "source": [
        "X_train.shape[1]"
      ]
    },
    {
      "cell_type": "markdown",
      "metadata": {
        "id": "LgOdZVESOtQB"
      },
      "source": [
        "# Create an instance of the model"
      ]
    },
    {
      "cell_type": "code",
      "execution_count": 112,
      "metadata": {},
      "outputs": [],
      "source": [
        "model = Net(X_train.shape[1])"
      ]
    },
    {
      "cell_type": "code",
      "execution_count": 113,
      "metadata": {},
      "outputs": [
        {
          "data": {
            "text/plain": [
              "<generator object Module.parameters at 0x178239120>"
            ]
          },
          "execution_count": 113,
          "metadata": {},
          "output_type": "execute_result"
        }
      ],
      "source": [
        "model.parameters()"
      ]
    },
    {
      "cell_type": "markdown",
      "metadata": {
        "id": "JiKF-Q5BO3HB"
      },
      "source": [
        "# Define the loss function and the optimizer"
      ]
    },
    {
      "cell_type": "code",
      "execution_count": 114,
      "metadata": {
        "id": "9LtNeLEPO1XO"
      },
      "outputs": [],
      "source": [
        "\n",
        "criterion = nn.CrossEntropyLoss()\n",
        "optimizer = optim.Adam(model.parameters(), lr=0.001)"
      ]
    },
    {
      "cell_type": "code",
      "execution_count": 115,
      "metadata": {},
      "outputs": [],
      "source": [
        "\n",
        "\n",
        "def train_model(model, criterion, optimizer, X_train, y_train, epochs=10):\n",
        "  for epoch in range(epochs):\n",
        "    # Set the model to training mode\n",
        "    model.train()\n",
        "    # Forward pass\n",
        "    outputs = model(X_train)\n",
        "    # Compute the loss\n",
        "    loss = criterion(outputs, y_train)\n",
        "    # Backward pass and optimize\n",
        "    optimizer.zero_grad()\n",
        "    loss.backward()\n",
        "    optimizer.step()\n",
        "    # Print the loss every epoch\n",
        "    print(f\"Epoch {epoch+1}, Loss: {loss.item():.4f}\")"
      ]
    },
    {
      "cell_type": "markdown",
      "metadata": {
        "id": "ZHq_UMcRPDgK"
      },
      "source": [
        "# Train the model for 10 epochs"
      ]
    },
    {
      "cell_type": "code",
      "execution_count": 116,
      "metadata": {
        "id": "KW1l-YjvPHT4"
      },
      "outputs": [
        {
          "name": "stdout",
          "output_type": "stream",
          "text": [
            "Epoch 1, Loss: 0.6596\n",
            "Epoch 2, Loss: 0.6476\n",
            "Epoch 3, Loss: 0.6374\n",
            "Epoch 4, Loss: 0.6270\n",
            "Epoch 5, Loss: 0.6178\n",
            "Epoch 6, Loss: 0.6087\n",
            "Epoch 7, Loss: 0.5994\n",
            "Epoch 8, Loss: 0.5893\n",
            "Epoch 9, Loss: 0.5795\n",
            "Epoch 10, Loss: 0.5687\n"
          ]
        }
      ],
      "source": [
        "train_model(model, criterion, optimizer, X_train, y_train, epochs=10)"
      ]
    },
    {
      "cell_type": "code",
      "execution_count": 119,
      "metadata": {},
      "outputs": [
        {
          "name": "stdout",
          "output_type": "stream",
          "text": [
            "Epoch 1, Loss: 0.1336\n",
            "Epoch 2, Loss: 0.1307\n",
            "Epoch 3, Loss: 0.1292\n",
            "Epoch 4, Loss: 0.1323\n",
            "Epoch 5, Loss: 0.1284\n",
            "Epoch 6, Loss: 0.1297\n",
            "Epoch 7, Loss: 0.1316\n",
            "Epoch 8, Loss: 0.1298\n",
            "Epoch 9, Loss: 0.1307\n",
            "Epoch 10, Loss: 0.1288\n",
            "Epoch 11, Loss: 0.1280\n",
            "Epoch 12, Loss: 0.1287\n",
            "Epoch 13, Loss: 0.1285\n",
            "Epoch 14, Loss: 0.1268\n",
            "Epoch 15, Loss: 0.1264\n",
            "Epoch 16, Loss: 0.1245\n",
            "Epoch 17, Loss: 0.1262\n",
            "Epoch 18, Loss: 0.1305\n",
            "Epoch 19, Loss: 0.1272\n",
            "Epoch 20, Loss: 0.1294\n",
            "Epoch 21, Loss: 0.1253\n",
            "Epoch 22, Loss: 0.1256\n",
            "Epoch 23, Loss: 0.1266\n",
            "Epoch 24, Loss: 0.1282\n",
            "Epoch 25, Loss: 0.1239\n",
            "Epoch 26, Loss: 0.1316\n",
            "Epoch 27, Loss: 0.1268\n",
            "Epoch 28, Loss: 0.1264\n",
            "Epoch 29, Loss: 0.1217\n",
            "Epoch 30, Loss: 0.1298\n",
            "Epoch 31, Loss: 0.1244\n",
            "Epoch 32, Loss: 0.1297\n",
            "Epoch 33, Loss: 0.1231\n",
            "Epoch 34, Loss: 0.1263\n",
            "Epoch 35, Loss: 0.1258\n",
            "Epoch 36, Loss: 0.1259\n",
            "Epoch 37, Loss: 0.1215\n",
            "Epoch 38, Loss: 0.1228\n",
            "Epoch 39, Loss: 0.1201\n",
            "Epoch 40, Loss: 0.1215\n",
            "Epoch 41, Loss: 0.1233\n",
            "Epoch 42, Loss: 0.1210\n",
            "Epoch 43, Loss: 0.1268\n",
            "Epoch 44, Loss: 0.1219\n",
            "Epoch 45, Loss: 0.1286\n",
            "Epoch 46, Loss: 0.1252\n",
            "Epoch 47, Loss: 0.1233\n",
            "Epoch 48, Loss: 0.1224\n",
            "Epoch 49, Loss: 0.1251\n",
            "Epoch 50, Loss: 0.1214\n",
            "Epoch 51, Loss: 0.1283\n",
            "Epoch 52, Loss: 0.1240\n",
            "Epoch 53, Loss: 0.1206\n",
            "Epoch 54, Loss: 0.1210\n",
            "Epoch 55, Loss: 0.1233\n",
            "Epoch 56, Loss: 0.1211\n",
            "Epoch 57, Loss: 0.1246\n",
            "Epoch 58, Loss: 0.1205\n",
            "Epoch 59, Loss: 0.1168\n",
            "Epoch 60, Loss: 0.1216\n",
            "Epoch 61, Loss: 0.1197\n",
            "Epoch 62, Loss: 0.1226\n",
            "Epoch 63, Loss: 0.1165\n",
            "Epoch 64, Loss: 0.1167\n",
            "Epoch 65, Loss: 0.1183\n",
            "Epoch 66, Loss: 0.1174\n",
            "Epoch 67, Loss: 0.1196\n",
            "Epoch 68, Loss: 0.1188\n",
            "Epoch 69, Loss: 0.1183\n",
            "Epoch 70, Loss: 0.1188\n",
            "Epoch 71, Loss: 0.1180\n",
            "Epoch 72, Loss: 0.1178\n",
            "Epoch 73, Loss: 0.1189\n",
            "Epoch 74, Loss: 0.1175\n",
            "Epoch 75, Loss: 0.1209\n",
            "Epoch 76, Loss: 0.1164\n",
            "Epoch 77, Loss: 0.1203\n",
            "Epoch 78, Loss: 0.1192\n",
            "Epoch 79, Loss: 0.1160\n",
            "Epoch 80, Loss: 0.1190\n",
            "Epoch 81, Loss: 0.1175\n",
            "Epoch 82, Loss: 0.1161\n",
            "Epoch 83, Loss: 0.1187\n",
            "Epoch 84, Loss: 0.1130\n",
            "Epoch 85, Loss: 0.1131\n",
            "Epoch 86, Loss: 0.1149\n",
            "Epoch 87, Loss: 0.1193\n",
            "Epoch 88, Loss: 0.1162\n",
            "Epoch 89, Loss: 0.1199\n",
            "Epoch 90, Loss: 0.1136\n",
            "Epoch 91, Loss: 0.1180\n",
            "Epoch 92, Loss: 0.1160\n",
            "Epoch 93, Loss: 0.1164\n",
            "Epoch 94, Loss: 0.1165\n",
            "Epoch 95, Loss: 0.1133\n",
            "Epoch 96, Loss: 0.1175\n",
            "Epoch 97, Loss: 0.1158\n",
            "Epoch 98, Loss: 0.1158\n",
            "Epoch 99, Loss: 0.1137\n",
            "Epoch 100, Loss: 0.1121\n",
            "Epoch 101, Loss: 0.1135\n",
            "Epoch 102, Loss: 0.1205\n",
            "Epoch 103, Loss: 0.1132\n",
            "Epoch 104, Loss: 0.1168\n",
            "Epoch 105, Loss: 0.1100\n",
            "Epoch 106, Loss: 0.1160\n",
            "Epoch 107, Loss: 0.1152\n",
            "Epoch 108, Loss: 0.1160\n",
            "Epoch 109, Loss: 0.1140\n",
            "Epoch 110, Loss: 0.1106\n",
            "Epoch 111, Loss: 0.1138\n",
            "Epoch 112, Loss: 0.1119\n",
            "Epoch 113, Loss: 0.1079\n",
            "Epoch 114, Loss: 0.1133\n",
            "Epoch 115, Loss: 0.1108\n",
            "Epoch 116, Loss: 0.1093\n",
            "Epoch 117, Loss: 0.1105\n",
            "Epoch 118, Loss: 0.1082\n",
            "Epoch 119, Loss: 0.1110\n",
            "Epoch 120, Loss: 0.1145\n",
            "Epoch 121, Loss: 0.1104\n",
            "Epoch 122, Loss: 0.1107\n",
            "Epoch 123, Loss: 0.1066\n",
            "Epoch 124, Loss: 0.1077\n",
            "Epoch 125, Loss: 0.1101\n",
            "Epoch 126, Loss: 0.1149\n",
            "Epoch 127, Loss: 0.1136\n",
            "Epoch 128, Loss: 0.1105\n",
            "Epoch 129, Loss: 0.1106\n",
            "Epoch 130, Loss: 0.1081\n",
            "Epoch 131, Loss: 0.1110\n",
            "Epoch 132, Loss: 0.1081\n",
            "Epoch 133, Loss: 0.1081\n",
            "Epoch 134, Loss: 0.1078\n",
            "Epoch 135, Loss: 0.1068\n",
            "Epoch 136, Loss: 0.1066\n",
            "Epoch 137, Loss: 0.1069\n",
            "Epoch 138, Loss: 0.1096\n",
            "Epoch 139, Loss: 0.1091\n",
            "Epoch 140, Loss: 0.1061\n",
            "Epoch 141, Loss: 0.1068\n",
            "Epoch 142, Loss: 0.1019\n",
            "Epoch 143, Loss: 0.1084\n",
            "Epoch 144, Loss: 0.1071\n",
            "Epoch 145, Loss: 0.1028\n",
            "Epoch 146, Loss: 0.1036\n",
            "Epoch 147, Loss: 0.1048\n",
            "Epoch 148, Loss: 0.1040\n",
            "Epoch 149, Loss: 0.1050\n",
            "Epoch 150, Loss: 0.1049\n",
            "Epoch 151, Loss: 0.1017\n",
            "Epoch 152, Loss: 0.1045\n",
            "Epoch 153, Loss: 0.1045\n",
            "Epoch 154, Loss: 0.1053\n",
            "Epoch 155, Loss: 0.1034\n",
            "Epoch 156, Loss: 0.1064\n",
            "Epoch 157, Loss: 0.1018\n",
            "Epoch 158, Loss: 0.1044\n",
            "Epoch 159, Loss: 0.1010\n",
            "Epoch 160, Loss: 0.1065\n",
            "Epoch 161, Loss: 0.1040\n",
            "Epoch 162, Loss: 0.1073\n",
            "Epoch 163, Loss: 0.1033\n",
            "Epoch 164, Loss: 0.1036\n",
            "Epoch 165, Loss: 0.1075\n",
            "Epoch 166, Loss: 0.1036\n",
            "Epoch 167, Loss: 0.1004\n",
            "Epoch 168, Loss: 0.1060\n",
            "Epoch 169, Loss: 0.1019\n",
            "Epoch 170, Loss: 0.1060\n",
            "Epoch 171, Loss: 0.0995\n",
            "Epoch 172, Loss: 0.1009\n",
            "Epoch 173, Loss: 0.1018\n",
            "Epoch 174, Loss: 0.1017\n",
            "Epoch 175, Loss: 0.1037\n",
            "Epoch 176, Loss: 0.0984\n",
            "Epoch 177, Loss: 0.1002\n",
            "Epoch 178, Loss: 0.0973\n",
            "Epoch 179, Loss: 0.0999\n",
            "Epoch 180, Loss: 0.1016\n",
            "Epoch 181, Loss: 0.1028\n",
            "Epoch 182, Loss: 0.1028\n",
            "Epoch 183, Loss: 0.1025\n",
            "Epoch 184, Loss: 0.0997\n",
            "Epoch 185, Loss: 0.0992\n",
            "Epoch 186, Loss: 0.1016\n",
            "Epoch 187, Loss: 0.0991\n",
            "Epoch 188, Loss: 0.0999\n",
            "Epoch 189, Loss: 0.1006\n",
            "Epoch 190, Loss: 0.0962\n",
            "Epoch 191, Loss: 0.1006\n",
            "Epoch 192, Loss: 0.1001\n",
            "Epoch 193, Loss: 0.1004\n",
            "Epoch 194, Loss: 0.0986\n",
            "Epoch 195, Loss: 0.0951\n",
            "Epoch 196, Loss: 0.1011\n",
            "Epoch 197, Loss: 0.0978\n",
            "Epoch 198, Loss: 0.0989\n",
            "Epoch 199, Loss: 0.0936\n",
            "Epoch 200, Loss: 0.0991\n",
            "Epoch 201, Loss: 0.0975\n",
            "Epoch 202, Loss: 0.0950\n",
            "Epoch 203, Loss: 0.0952\n",
            "Epoch 204, Loss: 0.0959\n",
            "Epoch 205, Loss: 0.0962\n",
            "Epoch 206, Loss: 0.0955\n",
            "Epoch 207, Loss: 0.0958\n",
            "Epoch 208, Loss: 0.0952\n",
            "Epoch 209, Loss: 0.0873\n",
            "Epoch 210, Loss: 0.0969\n",
            "Epoch 211, Loss: 0.0939\n",
            "Epoch 212, Loss: 0.0996\n",
            "Epoch 213, Loss: 0.0943\n",
            "Epoch 214, Loss: 0.0936\n",
            "Epoch 215, Loss: 0.0910\n",
            "Epoch 216, Loss: 0.0933\n",
            "Epoch 217, Loss: 0.1000\n",
            "Epoch 218, Loss: 0.0944\n",
            "Epoch 219, Loss: 0.0917\n",
            "Epoch 220, Loss: 0.0919\n",
            "Epoch 221, Loss: 0.0882\n",
            "Epoch 222, Loss: 0.0913\n",
            "Epoch 223, Loss: 0.0931\n",
            "Epoch 224, Loss: 0.0904\n",
            "Epoch 225, Loss: 0.0888\n",
            "Epoch 226, Loss: 0.0911\n",
            "Epoch 227, Loss: 0.0938\n",
            "Epoch 228, Loss: 0.0914\n",
            "Epoch 229, Loss: 0.0913\n",
            "Epoch 230, Loss: 0.0903\n",
            "Epoch 231, Loss: 0.0921\n",
            "Epoch 232, Loss: 0.0852\n",
            "Epoch 233, Loss: 0.0978\n",
            "Epoch 234, Loss: 0.0905\n",
            "Epoch 235, Loss: 0.0887\n",
            "Epoch 236, Loss: 0.0927\n",
            "Epoch 237, Loss: 0.0908\n",
            "Epoch 238, Loss: 0.0857\n",
            "Epoch 239, Loss: 0.0873\n",
            "Epoch 240, Loss: 0.0903\n",
            "Epoch 241, Loss: 0.0872\n",
            "Epoch 242, Loss: 0.0902\n",
            "Epoch 243, Loss: 0.0885\n",
            "Epoch 244, Loss: 0.0895\n",
            "Epoch 245, Loss: 0.0888\n",
            "Epoch 246, Loss: 0.0894\n",
            "Epoch 247, Loss: 0.0900\n",
            "Epoch 248, Loss: 0.0905\n",
            "Epoch 249, Loss: 0.0819\n",
            "Epoch 250, Loss: 0.0864\n",
            "Epoch 251, Loss: 0.0894\n",
            "Epoch 252, Loss: 0.0889\n",
            "Epoch 253, Loss: 0.0882\n",
            "Epoch 254, Loss: 0.0848\n",
            "Epoch 255, Loss: 0.0898\n",
            "Epoch 256, Loss: 0.0852\n",
            "Epoch 257, Loss: 0.0887\n",
            "Epoch 258, Loss: 0.0831\n",
            "Epoch 259, Loss: 0.0869\n",
            "Epoch 260, Loss: 0.0864\n",
            "Epoch 261, Loss: 0.0877\n",
            "Epoch 262, Loss: 0.0834\n",
            "Epoch 263, Loss: 0.0828\n",
            "Epoch 264, Loss: 0.0844\n",
            "Epoch 265, Loss: 0.0832\n",
            "Epoch 266, Loss: 0.0831\n",
            "Epoch 267, Loss: 0.0830\n",
            "Epoch 268, Loss: 0.0820\n",
            "Epoch 269, Loss: 0.0810\n",
            "Epoch 270, Loss: 0.0839\n",
            "Epoch 271, Loss: 0.0837\n",
            "Epoch 272, Loss: 0.0812\n",
            "Epoch 273, Loss: 0.0830\n",
            "Epoch 274, Loss: 0.0769\n",
            "Epoch 275, Loss: 0.0792\n",
            "Epoch 276, Loss: 0.0823\n",
            "Epoch 277, Loss: 0.0842\n",
            "Epoch 278, Loss: 0.0805\n",
            "Epoch 279, Loss: 0.0811\n",
            "Epoch 280, Loss: 0.0817\n",
            "Epoch 281, Loss: 0.0768\n",
            "Epoch 282, Loss: 0.0769\n",
            "Epoch 283, Loss: 0.0820\n",
            "Epoch 284, Loss: 0.0842\n",
            "Epoch 285, Loss: 0.0795\n",
            "Epoch 286, Loss: 0.0788\n",
            "Epoch 287, Loss: 0.0818\n",
            "Epoch 288, Loss: 0.0820\n",
            "Epoch 289, Loss: 0.0798\n",
            "Epoch 290, Loss: 0.0773\n",
            "Epoch 291, Loss: 0.0810\n",
            "Epoch 292, Loss: 0.0813\n",
            "Epoch 293, Loss: 0.0788\n",
            "Epoch 294, Loss: 0.0802\n",
            "Epoch 295, Loss: 0.0794\n",
            "Epoch 296, Loss: 0.0776\n",
            "Epoch 297, Loss: 0.0759\n",
            "Epoch 298, Loss: 0.0783\n",
            "Epoch 299, Loss: 0.0797\n",
            "Epoch 300, Loss: 0.0738\n",
            "Epoch 301, Loss: 0.0815\n",
            "Epoch 302, Loss: 0.0795\n",
            "Epoch 303, Loss: 0.0714\n",
            "Epoch 304, Loss: 0.0760\n",
            "Epoch 305, Loss: 0.0821\n",
            "Epoch 306, Loss: 0.0835\n",
            "Epoch 307, Loss: 0.0731\n",
            "Epoch 308, Loss: 0.0745\n",
            "Epoch 309, Loss: 0.0758\n",
            "Epoch 310, Loss: 0.0759\n",
            "Epoch 311, Loss: 0.0757\n",
            "Epoch 312, Loss: 0.0786\n",
            "Epoch 313, Loss: 0.0754\n",
            "Epoch 314, Loss: 0.0718\n",
            "Epoch 315, Loss: 0.0725\n",
            "Epoch 316, Loss: 0.0749\n",
            "Epoch 317, Loss: 0.0733\n",
            "Epoch 318, Loss: 0.0744\n",
            "Epoch 319, Loss: 0.0726\n",
            "Epoch 320, Loss: 0.0765\n",
            "Epoch 321, Loss: 0.0734\n",
            "Epoch 322, Loss: 0.0729\n",
            "Epoch 323, Loss: 0.0719\n",
            "Epoch 324, Loss: 0.0715\n",
            "Epoch 325, Loss: 0.0745\n",
            "Epoch 326, Loss: 0.0742\n",
            "Epoch 327, Loss: 0.0692\n",
            "Epoch 328, Loss: 0.0722\n",
            "Epoch 329, Loss: 0.0722\n",
            "Epoch 330, Loss: 0.0717\n",
            "Epoch 331, Loss: 0.0733\n",
            "Epoch 332, Loss: 0.0709\n",
            "Epoch 333, Loss: 0.0711\n",
            "Epoch 334, Loss: 0.0759\n",
            "Epoch 335, Loss: 0.0723\n",
            "Epoch 336, Loss: 0.0714\n",
            "Epoch 337, Loss: 0.0743\n",
            "Epoch 338, Loss: 0.0688\n",
            "Epoch 339, Loss: 0.0739\n",
            "Epoch 340, Loss: 0.0753\n",
            "Epoch 341, Loss: 0.0751\n",
            "Epoch 342, Loss: 0.0716\n",
            "Epoch 343, Loss: 0.0696\n",
            "Epoch 344, Loss: 0.0713\n",
            "Epoch 345, Loss: 0.0747\n",
            "Epoch 346, Loss: 0.0734\n",
            "Epoch 347, Loss: 0.0698\n",
            "Epoch 348, Loss: 0.0716\n",
            "Epoch 349, Loss: 0.0723\n",
            "Epoch 350, Loss: 0.0683\n",
            "Epoch 351, Loss: 0.0689\n",
            "Epoch 352, Loss: 0.0697\n",
            "Epoch 353, Loss: 0.0707\n",
            "Epoch 354, Loss: 0.0720\n",
            "Epoch 355, Loss: 0.0698\n",
            "Epoch 356, Loss: 0.0687\n",
            "Epoch 357, Loss: 0.0725\n",
            "Epoch 358, Loss: 0.0679\n",
            "Epoch 359, Loss: 0.0720\n",
            "Epoch 360, Loss: 0.0711\n",
            "Epoch 361, Loss: 0.0634\n",
            "Epoch 362, Loss: 0.0730\n",
            "Epoch 363, Loss: 0.0723\n",
            "Epoch 364, Loss: 0.0690\n",
            "Epoch 365, Loss: 0.0702\n",
            "Epoch 366, Loss: 0.0720\n",
            "Epoch 367, Loss: 0.0731\n",
            "Epoch 368, Loss: 0.0685\n",
            "Epoch 369, Loss: 0.0701\n",
            "Epoch 370, Loss: 0.0678\n",
            "Epoch 371, Loss: 0.0712\n",
            "Epoch 372, Loss: 0.0693\n",
            "Epoch 373, Loss: 0.0738\n",
            "Epoch 374, Loss: 0.0743\n",
            "Epoch 375, Loss: 0.0738\n",
            "Epoch 376, Loss: 0.0712\n",
            "Epoch 377, Loss: 0.0690\n",
            "Epoch 378, Loss: 0.0719\n",
            "Epoch 379, Loss: 0.0674\n",
            "Epoch 380, Loss: 0.0713\n",
            "Epoch 381, Loss: 0.0711\n",
            "Epoch 382, Loss: 0.0690\n",
            "Epoch 383, Loss: 0.0665\n",
            "Epoch 384, Loss: 0.0671\n",
            "Epoch 385, Loss: 0.0684\n",
            "Epoch 386, Loss: 0.0707\n",
            "Epoch 387, Loss: 0.0639\n",
            "Epoch 388, Loss: 0.0690\n",
            "Epoch 389, Loss: 0.0666\n",
            "Epoch 390, Loss: 0.0685\n",
            "Epoch 391, Loss: 0.0662\n",
            "Epoch 392, Loss: 0.0688\n",
            "Epoch 393, Loss: 0.0645\n",
            "Epoch 394, Loss: 0.0707\n",
            "Epoch 395, Loss: 0.0632\n",
            "Epoch 396, Loss: 0.0655\n",
            "Epoch 397, Loss: 0.0667\n",
            "Epoch 398, Loss: 0.0680\n",
            "Epoch 399, Loss: 0.0688\n",
            "Epoch 400, Loss: 0.0637\n",
            "Epoch 401, Loss: 0.0656\n",
            "Epoch 402, Loss: 0.0700\n",
            "Epoch 403, Loss: 0.0666\n",
            "Epoch 404, Loss: 0.0667\n",
            "Epoch 405, Loss: 0.0678\n",
            "Epoch 406, Loss: 0.0690\n",
            "Epoch 407, Loss: 0.0651\n",
            "Epoch 408, Loss: 0.0683\n",
            "Epoch 409, Loss: 0.0647\n",
            "Epoch 410, Loss: 0.0623\n",
            "Epoch 411, Loss: 0.0646\n",
            "Epoch 412, Loss: 0.0654\n",
            "Epoch 413, Loss: 0.0641\n",
            "Epoch 414, Loss: 0.0658\n",
            "Epoch 415, Loss: 0.0626\n",
            "Epoch 416, Loss: 0.0623\n",
            "Epoch 417, Loss: 0.0642\n",
            "Epoch 418, Loss: 0.0636\n",
            "Epoch 419, Loss: 0.0586\n",
            "Epoch 420, Loss: 0.0640\n",
            "Epoch 421, Loss: 0.0649\n",
            "Epoch 422, Loss: 0.0659\n",
            "Epoch 423, Loss: 0.0657\n",
            "Epoch 424, Loss: 0.0642\n",
            "Epoch 425, Loss: 0.0621\n",
            "Epoch 426, Loss: 0.0664\n",
            "Epoch 427, Loss: 0.0625\n",
            "Epoch 428, Loss: 0.0598\n",
            "Epoch 429, Loss: 0.0641\n",
            "Epoch 430, Loss: 0.0632\n",
            "Epoch 431, Loss: 0.0661\n",
            "Epoch 432, Loss: 0.0629\n",
            "Epoch 433, Loss: 0.0632\n",
            "Epoch 434, Loss: 0.0633\n",
            "Epoch 435, Loss: 0.0593\n",
            "Epoch 436, Loss: 0.0650\n",
            "Epoch 437, Loss: 0.0643\n",
            "Epoch 438, Loss: 0.0649\n",
            "Epoch 439, Loss: 0.0637\n",
            "Epoch 440, Loss: 0.0649\n",
            "Epoch 441, Loss: 0.0666\n",
            "Epoch 442, Loss: 0.0587\n",
            "Epoch 443, Loss: 0.0619\n",
            "Epoch 444, Loss: 0.0622\n",
            "Epoch 445, Loss: 0.0653\n",
            "Epoch 446, Loss: 0.0601\n",
            "Epoch 447, Loss: 0.0628\n",
            "Epoch 448, Loss: 0.0574\n",
            "Epoch 449, Loss: 0.0598\n",
            "Epoch 450, Loss: 0.0627\n",
            "Epoch 451, Loss: 0.0598\n",
            "Epoch 452, Loss: 0.0586\n",
            "Epoch 453, Loss: 0.0548\n",
            "Epoch 454, Loss: 0.0620\n",
            "Epoch 455, Loss: 0.0598\n",
            "Epoch 456, Loss: 0.0609\n",
            "Epoch 457, Loss: 0.0622\n",
            "Epoch 458, Loss: 0.0596\n",
            "Epoch 459, Loss: 0.0608\n",
            "Epoch 460, Loss: 0.0626\n",
            "Epoch 461, Loss: 0.0606\n",
            "Epoch 462, Loss: 0.0597\n",
            "Epoch 463, Loss: 0.0607\n",
            "Epoch 464, Loss: 0.0635\n",
            "Epoch 465, Loss: 0.0648\n",
            "Epoch 466, Loss: 0.0616\n",
            "Epoch 467, Loss: 0.0592\n",
            "Epoch 468, Loss: 0.0590\n",
            "Epoch 469, Loss: 0.0599\n",
            "Epoch 470, Loss: 0.0577\n",
            "Epoch 471, Loss: 0.0614\n",
            "Epoch 472, Loss: 0.0609\n",
            "Epoch 473, Loss: 0.0534\n",
            "Epoch 474, Loss: 0.0586\n",
            "Epoch 475, Loss: 0.0615\n",
            "Epoch 476, Loss: 0.0589\n",
            "Epoch 477, Loss: 0.0569\n",
            "Epoch 478, Loss: 0.0596\n",
            "Epoch 479, Loss: 0.0598\n",
            "Epoch 480, Loss: 0.0641\n",
            "Epoch 481, Loss: 0.0557\n",
            "Epoch 482, Loss: 0.0619\n",
            "Epoch 483, Loss: 0.0572\n",
            "Epoch 484, Loss: 0.0638\n",
            "Epoch 485, Loss: 0.0555\n",
            "Epoch 486, Loss: 0.0571\n",
            "Epoch 487, Loss: 0.0598\n",
            "Epoch 488, Loss: 0.0575\n",
            "Epoch 489, Loss: 0.0575\n",
            "Epoch 490, Loss: 0.0584\n",
            "Epoch 491, Loss: 0.0633\n",
            "Epoch 492, Loss: 0.0585\n",
            "Epoch 493, Loss: 0.0615\n",
            "Epoch 494, Loss: 0.0579\n",
            "Epoch 495, Loss: 0.0591\n",
            "Epoch 496, Loss: 0.0621\n",
            "Epoch 497, Loss: 0.0563\n",
            "Epoch 498, Loss: 0.0562\n",
            "Epoch 499, Loss: 0.0648\n",
            "Epoch 500, Loss: 0.0612\n"
          ]
        }
      ],
      "source": [
        "train_model(model, criterion, optimizer, X_train, y_train, epochs=500)"
      ]
    },
    {
      "cell_type": "markdown",
      "metadata": {
        "id": "3rToRkk1Ph3B"
      },
      "source": [
        "# Set the model to evaluation mode"
      ]
    },
    {
      "cell_type": "markdown",
      "metadata": {
        "id": "-qC4lZtzPmRq"
      },
      "source": [
        "# Analyze the results"
      ]
    },
    {
      "cell_type": "code",
      "execution_count": 121,
      "metadata": {},
      "outputs": [
        {
          "name": "stdout",
          "output_type": "stream",
          "text": [
            "tensor([1, 0, 0,  ..., 0, 0, 1])\n",
            "Confusion Matrix\n"
          ]
        },
        {
          "data": {
            "image/png": "[encoded data removed]",
            "text/plain": [
              "<Figure size 432x288 with 2 Axes>"
            ]
          },
          "metadata": {
            "needs_background": "light"
          },
          "output_type": "display_data"
        },
        {
          "name": "stdout",
          "output_type": "stream",
          "text": [
            "Precision Score\n",
            "0.967741935483871\n",
            "Recall Score\n",
            "0.9051724137931034\n",
            "F1 Score\n",
            "0.9354120267260579\n",
            "ROC AUC Score\n",
            "0.9495133359571312\n"
          ]
        },
        {
          "data": {
            "image/png": "[encoded data removed]",
            "text/plain": [
              "<Figure size 720x576 with 1 Axes>"
            ]
          },
          "metadata": {
            "needs_background": "light"
          },
          "output_type": "display_data"
        }
      ],
      "source": [
        "from sklearn.metrics import confusion_matrix, precision_score, recall_score, f1_score\n",
        "\n",
        "# Set the model to evaluation mode\n",
        "model.eval()\n",
        "\n",
        "# Get the predictions\n",
        "y_pred = model(X_test)\n",
        "\n",
        "\n",
        "# Get the predicted class\n",
        "_, y_pred = torch.max(y_pred, 1)\n",
        "\n",
        "print(y_pred)\n",
        "\n",
        "# see how the model performed\n",
        "print(\"Confusion Matrix\")\n",
        "\n",
        "#plot the confusion matrix\n",
        "cm = confusion_matrix(y_test, y_pred)\n",
        "sns.heatmap(cm, annot=True)\n",
        "plt.xlabel('Predicted labels')\n",
        "plt.ylabel('True labels')\n",
        "\n",
        "\n",
        "\n",
        "plt.show()\n",
        "\n",
        "print(\"Precision Score\")\n",
        "print(precision_score(y_test, y_pred))\n",
        "\n",
        "print(\"Recall Score\")\n",
        "print(recall_score(y_test, y_pred))\n",
        "\n",
        "print(\"F1 Score\")\n",
        "print(f1_score(y_test, y_pred))\n",
        "\n",
        "print(\"ROC AUC Score\")\n",
        "print(roc_auc_score(y_test, y_pred))\n",
        "\n",
        "# Plot the ROC curve\n",
        "from sklearn.metrics import roc_curve\n",
        "\n",
        "plt.figure(figsize=(10, 8))\n",
        "fpr, tpr, thresholds = roc_curve(y_test, y_pred)\n",
        "plt.plot(fpr, tpr)\n",
        "\n",
        "plt.plot([0, 1], [0, 1], linestyle='--')\n",
        "\n",
        "plt.xlabel('False Positive Rate')\n",
        "plt.ylabel('True Positive Rate')\n",
        "\n",
        "plt.title('ROC Curve')\n",
        "\n",
        "plt.show()\n",
        "\n",
        "\n",
        "\n",
        "\n"
      ]
    }
  ],
  "metadata": {
    "colab": {
      "provenance": []
    },
    "kernelspec": {
      "display_name": "Python 3",
      "name": "python3"
    },
    "language_info": {
      "codemirror_mode": {
        "name": "ipython",
        "version": 3
      },
      "file_extension": ".py",
      "mimetype": "text/x-python",
      "name": "python",
      "nbconvert_exporter": "python",
      "pygments_lexer": "ipython3",
      "version": "3.8.13"
    }
  },
  "nbformat": 4,
  "nbformat_minor": 0
}
